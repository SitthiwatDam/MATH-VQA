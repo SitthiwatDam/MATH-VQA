{
 "cells": [
  {
   "cell_type": "code",
   "execution_count": 1,
   "metadata": {},
   "outputs": [],
   "source": [
    "import os\n",
    "\n",
    "os.environ['CUDA_LAUNCH_BLOCKING'] = '1'"
   ]
  },
  {
   "cell_type": "code",
   "execution_count": 2,
   "metadata": {},
   "outputs": [
    {
     "name": "stderr",
     "output_type": "stream",
     "text": [
      "c:\\Users\\Admin\\anaconda3\\envs\\dsai\\lib\\site-packages\\tqdm\\auto.py:21: TqdmWarning: IProgress not found. Please update jupyter and ipywidgets. See https://ipywidgets.readthedocs.io/en/stable/user_install.html\n",
      "  from .autonotebook import tqdm as notebook_tqdm\n",
      "c:\\Users\\Admin\\anaconda3\\envs\\dsai\\lib\\site-packages\\transformers\\utils\\generic.py:441: UserWarning: torch.utils._pytree._register_pytree_node is deprecated. Please use torch.utils._pytree.register_pytree_node instead.\n",
      "  _torch_pytree._register_pytree_node(\n",
      "c:\\Users\\Admin\\anaconda3\\envs\\dsai\\lib\\site-packages\\transformers\\utils\\generic.py:309: UserWarning: torch.utils._pytree._register_pytree_node is deprecated. Please use torch.utils._pytree.register_pytree_node instead.\n",
      "  _torch_pytree._register_pytree_node(\n",
      "c:\\Users\\Admin\\anaconda3\\envs\\dsai\\lib\\site-packages\\transformers\\utils\\generic.py:309: UserWarning: torch.utils._pytree._register_pytree_node is deprecated. Please use torch.utils._pytree.register_pytree_node instead.\n",
      "  _torch_pytree._register_pytree_node(\n"
     ]
    }
   ],
   "source": [
    "from transformers import Pix2StructProcessor, Pix2StructForConditionalGeneration\n",
    "from PIL import Image\n",
    "from torch.utils.data import Dataset, DataLoader\n",
    "\n",
    "import json\n",
    "import torch\n",
    "from tqdm import tqdm\n",
    "import numpy as np"
   ]
  },
  {
   "cell_type": "code",
   "execution_count": 3,
   "metadata": {},
   "outputs": [
    {
     "data": {
      "text/plain": [
       "device(type='cuda')"
      ]
     },
     "execution_count": 3,
     "metadata": {},
     "output_type": "execute_result"
    }
   ],
   "source": [
    "device = torch.device('cuda') if torch.cuda.is_available() else 'cpu'\n",
    "device"
   ]
  },
  {
   "cell_type": "code",
   "execution_count": 4,
   "metadata": {},
   "outputs": [],
   "source": [
    "#make our work comparable if restarted the kernel\n",
    "SEED = 1234\n",
    "torch.manual_seed(SEED)\n",
    "torch.backends.cudnn.deterministic = True"
   ]
  },
  {
   "cell_type": "markdown",
   "metadata": {},
   "source": [
    "## 1. Prepare dataset"
   ]
  },
  {
   "cell_type": "code",
   "execution_count": 5,
   "metadata": {},
   "outputs": [],
   "source": [
    "# You'll need to create a custom dataset class to load your data.\n",
    "\n",
    "MAX_PATCHES = 1024\n",
    "\n",
    "class CustomDataset(Dataset):\n",
    "    def __init__(self, image_paths, user_prompt, chart_summaries, processor):\n",
    "        self.image_paths = image_paths\n",
    "        self.user_prompt = user_prompt\n",
    "        self.chart_summaries = chart_summaries\n",
    "        self.processor = processor\n",
    "\n",
    "    def __len__(self):\n",
    "        return len(self.image_paths)\n",
    "\n",
    "    def __getitem__(self, idx):\n",
    "        image = Image.open(self.image_paths[idx]).convert(\"RGB\")\n",
    "        # image = cv2.imread(self.image_paths[idx], cv2.IMREAD_COLOR)\n",
    "        # image = cv2.cvtColor(image, cv2.COLOR_BGR2RGB)\n",
    "\n",
    "        encoding = self.processor(images=image, text=self.user_prompt, return_tensors=\"pt\", add_special_tokens=True, max_patches=MAX_PATCHES)\n",
    "        encoding = {k:v.squeeze() for k,v in encoding.items()}\n",
    "        encoding[\"text\"] = self.chart_summaries[idx]\n",
    "\n",
    "        return encoding"
   ]
  },
  {
   "cell_type": "code",
   "execution_count": 6,
   "metadata": {},
   "outputs": [],
   "source": [
    "def get_autochart_urls(url_list, chart_type='Bar'):\n",
    "    image_paths = []\n",
    "    chart_summaries = []\n",
    "\n",
    "    if chart_type in ['Bar', 'Line', 'Scatter']:\n",
    "        for item in url_list:\n",
    "            image_path = f\"./dataset/{chart_type}/{chart_type}{item['image_index']}.png\"\n",
    "\n",
    "            if os.path.isfile(image_path):\n",
    "                image_paths.append(image_path)\n",
    "                chart_summaries.append(item['text'])\n",
    "\n",
    "        return image_paths, chart_summaries\n",
    "\n",
    "    else:\n",
    "        print('Chart type is incorrect. Must be one of the followings: Bar, Line, Scatter')"
   ]
  },
  {
   "cell_type": "code",
   "execution_count": 7,
   "metadata": {},
   "outputs": [],
   "source": [
    "total_image_paths, total_chart_summaries = [], []\n",
    "\n",
    "file_dict = {\n",
    "    'all_bar_text1.json': 'Bar',\n",
    "    'all_line_text1.json': 'Line',\n",
    "    'all_scatter_text1.json': 'Scatter'\n",
    "    }\n",
    "\n",
    "for filename, chart_type in file_dict.items():\n",
    "    with open(f'./dataset/{filename}') as f:\n",
    "        url_lst = json.load(f)[:1200]\n",
    "        image_paths, chart_summaries = get_autochart_urls(url_lst, chart_type=chart_type)\n",
    "        total_image_paths.extend(image_paths)\n",
    "        total_chart_summaries.extend(chart_summaries)"
   ]
  },
  {
   "cell_type": "markdown",
   "metadata": {},
   "source": [
    "## 2. Fine-tuning"
   ]
  },
  {
   "cell_type": "code",
   "execution_count": 8,
   "metadata": {},
   "outputs": [],
   "source": [
    "processor = Pix2StructProcessor.from_pretrained('google/matcha-chart2text-pew')\n",
    "model = Pix2StructForConditionalGeneration.from_pretrained('google/matcha-chart2text-pew').to(device)"
   ]
  },
  {
   "cell_type": "code",
   "execution_count": 9,
   "metadata": {},
   "outputs": [],
   "source": [
    "def collator(batch):\n",
    "    new_batch = {\"flattened_patches\": [], \"attention_mask\": []}\n",
    "    texts = [item[\"text\"] for item in batch]\n",
    "\n",
    "    text_inputs = processor.tokenizer(text=texts, padding=\"max_length\", truncation=True, return_tensors=\"pt\", add_special_tokens=True, max_length=512)\n",
    "\n",
    "    new_batch[\"labels\"] = text_inputs.input_ids\n",
    "\n",
    "    for item in batch:\n",
    "        new_batch[\"flattened_patches\"].append(item[\"flattened_patches\"])\n",
    "        new_batch[\"attention_mask\"].append(item[\"attention_mask\"])\n",
    "\n",
    "    new_batch[\"flattened_patches\"] = torch.stack(new_batch[\"flattened_patches\"])\n",
    "    new_batch[\"attention_mask\"] = torch.stack(new_batch[\"attention_mask\"])\n",
    "\n",
    "    return new_batch"
   ]
  },
  {
   "cell_type": "markdown",
   "metadata": {},
   "source": [
    "## 3. Data processing"
   ]
  },
  {
   "cell_type": "code",
   "execution_count": 11,
   "metadata": {},
   "outputs": [],
   "source": [
    "# Create instances of your custom dataset\n",
    "user_prompt = \"What is this chart about?\"\n",
    "\n",
    "dataset = CustomDataset(total_image_paths, user_prompt, total_chart_summaries, processor)"
   ]
  },
  {
   "cell_type": "code",
   "execution_count": 12,
   "metadata": {},
   "outputs": [],
   "source": [
    "# Split into train, validation, test sets\n",
    "train_set, val_set, test_set = torch.utils.data.random_split(dataset, [3000, 300, 300])"
   ]
  },
  {
   "cell_type": "markdown",
   "metadata": {},
   "source": [
    "## 4. Training"
   ]
  },
  {
   "cell_type": "code",
   "execution_count": 13,
   "metadata": {},
   "outputs": [],
   "source": [
    "from transformers.optimization import Adafactor, get_cosine_schedule_with_warmup\n",
    "\n",
    "batch_size = 1\n",
    "num_epochs = 5\n",
    "total_samples = len(train_set)\n",
    "\n",
    "num_warmup_steps = (total_samples // batch_size) * 2\n",
    "num_total_steps = (total_samples // batch_size) * num_epochs\n",
    "\n",
    "# Define your training parameters (optimizer, loss function, etc.)\n",
    "# optimizer = torch.optim.AdamW(model.parameters(), lr=5e-5)\n",
    "optimizer = Adafactor(model.parameters(), scale_parameter=False, relative_step=False, lr=0.01, weight_decay=1e-05)\n",
    "scheduler = get_cosine_schedule_with_warmup(optimizer, num_warmup_steps=num_warmup_steps, num_training_steps=num_total_steps)\n",
    "# then during the training loop we update the scheduler per step\n",
    "scheduler.step()"
   ]
  },
  {
   "cell_type": "code",
   "execution_count": 14,
   "metadata": {},
   "outputs": [],
   "source": [
    "def train(model, data, optimizer, scheduler, device):\n",
    "    losses = []\n",
    "    model.train()\n",
    "\n",
    "    for batch in tqdm(DataLoader(data, batch_size=batch_size, shuffle=True, collate_fn=collator)):\n",
    "        optimizer.zero_grad()\n",
    "        labels = batch.pop('labels').to(device)\n",
    "        flattened_patches = batch.pop('flattened_patches').to(device)\n",
    "        attention_mask = batch.pop('attention_mask').to(device)\n",
    "        outputs = model(\n",
    "            flattened_patches=flattened_patches,\n",
    "            attention_mask=attention_mask,\n",
    "            labels=labels\n",
    "            )\n",
    "        # loss = loss_fn(outputs.logits, labels[\"input_ids\"])\n",
    "        loss = outputs.loss\n",
    "        losses.append(loss.item())\n",
    "        loss.backward()\n",
    "        optimizer.step()\n",
    "        scheduler.step()\n",
    "\n",
    "    return np.average(losses)"
   ]
  },
  {
   "cell_type": "code",
   "execution_count": 15,
   "metadata": {},
   "outputs": [],
   "source": [
    "def evaluate(model, data, device):\n",
    "    losses = []\n",
    "    model.eval()\n",
    "    \n",
    "    with torch.no_grad():\n",
    "        for batch in tqdm(DataLoader(data, batch_size=batch_size, shuffle=True, collate_fn=collator)):\n",
    "            labels = batch.pop('labels').to(device)\n",
    "            flattened_patches = batch.pop('flattened_patches').to(device)\n",
    "            attention_mask = batch.pop('attention_mask').to(device)\n",
    "            outputs = model(\n",
    "                flattened_patches=flattened_patches,\n",
    "                attention_mask=attention_mask,\n",
    "                labels=labels\n",
    "                )\n",
    "            # loss = loss_fn(outputs.logits, labels[\"input_ids\"])\n",
    "            loss = outputs.loss\n",
    "            losses.append(loss.item())\n",
    "\n",
    "    return np.average(losses)"
   ]
  },
  {
   "cell_type": "code",
   "execution_count": 16,
   "metadata": {},
   "outputs": [
    {
     "name": "stderr",
     "output_type": "stream",
     "text": [
      "100%|██████████| 3000/3000 [49:06<00:00,  1.02it/s]  \n",
      "100%|██████████| 300/300 [03:13<00:00,  1.55it/s]\n"
     ]
    },
    {
     "name": "stdout",
     "output_type": "stream",
     "text": [
      "Epoch: 01 | Train Loss: 0.491 | Val Loss: 0.267\n"
     ]
    },
    {
     "name": "stderr",
     "output_type": "stream",
     "text": [
      "100%|██████████| 3000/3000 [47:47<00:00,  1.05it/s] \n",
      "100%|██████████| 300/300 [03:12<00:00,  1.56it/s]\n"
     ]
    },
    {
     "name": "stdout",
     "output_type": "stream",
     "text": [
      "Epoch: 02 | Train Loss: 0.369 | Val Loss: 0.612\n"
     ]
    },
    {
     "name": "stderr",
     "output_type": "stream",
     "text": [
      "100%|██████████| 3000/3000 [47:27<00:00,  1.05it/s]\n",
      "100%|██████████| 300/300 [03:15<00:00,  1.53it/s]\n"
     ]
    },
    {
     "name": "stdout",
     "output_type": "stream",
     "text": [
      "Epoch: 03 | Train Loss: 0.580 | Val Loss: 0.431\n"
     ]
    },
    {
     "name": "stderr",
     "output_type": "stream",
     "text": [
      "100%|██████████| 3000/3000 [47:17<00:00,  1.06it/s]\n",
      "100%|██████████| 300/300 [03:14<00:00,  1.54it/s]\n"
     ]
    },
    {
     "name": "stdout",
     "output_type": "stream",
     "text": [
      "Epoch: 04 | Train Loss: 0.436 | Val Loss: 0.348\n"
     ]
    },
    {
     "name": "stderr",
     "output_type": "stream",
     "text": [
      "100%|██████████| 3000/3000 [47:23<00:00,  1.05it/s]\n",
      "100%|██████████| 300/300 [03:13<00:00,  1.55it/s]"
     ]
    },
    {
     "name": "stdout",
     "output_type": "stream",
     "text": [
      "Epoch: 05 | Train Loss: 0.360 | Val Loss: 0.313\n"
     ]
    },
    {
     "name": "stderr",
     "output_type": "stream",
     "text": [
      "\n"
     ]
    }
   ],
   "source": [
    "best_val_loss = float('inf')\n",
    "model_path = \"./model/chart2text-autochart\"\n",
    "\n",
    "# Define your training loop\n",
    "for epoch in range(num_epochs):\n",
    "    train_loss = train(model, train_set, optimizer, scheduler, device)\n",
    "    val_loss = evaluate(model, val_set, device)\n",
    "\n",
    "    if val_loss < best_val_loss:\n",
    "        best_val_loss = val_loss\n",
    "        model.save_pretrained(model_path, from_pt=True) \n",
    "\n",
    "    print(f'Epoch: {epoch+1:02} | Train Loss: {train_loss:.3f} | Val Loss: {val_loss:.3f}')"
   ]
  },
  {
   "cell_type": "markdown",
   "metadata": {},
   "source": [
    "## 5. Evaluation"
   ]
  },
  {
   "cell_type": "code",
   "execution_count": 16,
   "metadata": {},
   "outputs": [],
   "source": [
    "# Evaluate your fine-tuned model on a test set\n",
    "model_path = \"./model/chart2text-autochart\"\n",
    "result_path = \"./result/results.json\"\n",
    "\n",
    "processor = Pix2StructProcessor.from_pretrained('google/matcha-chart2text-pew')\n",
    "models = {'Original': Pix2StructForConditionalGeneration.from_pretrained('google/matcha-chart2text-pew'),\n",
    "          'Finetuned': Pix2StructForConditionalGeneration.from_pretrained(model_path)}"
   ]
  },
  {
   "cell_type": "code",
   "execution_count": 17,
   "metadata": {},
   "outputs": [],
   "source": [
    "test_set = [test_set[i] for i in range(100)]"
   ]
  },
  {
   "cell_type": "code",
   "execution_count": 18,
   "metadata": {},
   "outputs": [
    {
     "name": "stderr",
     "output_type": "stream",
     "text": [
      "100%|██████████| 100/100 [09:39<00:00,  5.79s/it]\n"
     ]
    },
    {
     "name": "stdout",
     "output_type": "stream",
     "text": [
      "Generation completed for Original model\n"
     ]
    },
    {
     "name": "stderr",
     "output_type": "stream",
     "text": [
      "100%|██████████| 100/100 [15:59<00:00,  9.60s/it]"
     ]
    },
    {
     "name": "stdout",
     "output_type": "stream",
     "text": [
      "Generation completed for Finetuned model\n"
     ]
    },
    {
     "name": "stderr",
     "output_type": "stream",
     "text": [
      "\n"
     ]
    }
   ],
   "source": [
    "results = {}\n",
    "\n",
    "for model_name, model in models.items():\n",
    "    model = model.to(device)\n",
    "    results[model_name] = []\n",
    "\n",
    "    for samp in tqdm(test_set):\n",
    "        inputs = {k: samp[k].unsqueeze(0).to(device) for k in ['flattened_patches', 'attention_mask']}\n",
    "        predictions = model.generate(**inputs, max_new_tokens=256)\n",
    "        chart_sum = processor.decode(predictions[0], skip_special_tokens=True)\n",
    "        results[model_name].append({'actual summary': samp['text'], 'generated summary': chart_sum})\n",
    "    \n",
    "    print(f\"Generation completed for {model_name} model\")"
   ]
  },
  {
   "cell_type": "code",
   "execution_count": 28,
   "metadata": {},
   "outputs": [],
   "source": [
    "# save results to json file\n",
    "with open(result_path, \"w\") as outfile: \n",
    "    json.dump(results, outfile, indent=4)"
   ]
  },
  {
   "cell_type": "code",
   "execution_count": 29,
   "metadata": {},
   "outputs": [],
   "source": [
    "# load results from json file\n",
    "with open(result_path) as json_file:\n",
    "    results = json.load(json_file)"
   ]
  },
  {
   "cell_type": "code",
   "execution_count": 31,
   "metadata": {},
   "outputs": [
    {
     "name": "stderr",
     "output_type": "stream",
     "text": [
      "Some weights of RobertaModel were not initialized from the model checkpoint at roberta-large and are newly initialized: ['roberta.pooler.dense.weight', 'roberta.pooler.dense.bias']\n",
      "You should probably TRAIN this model on a down-stream task to be able to use it for predictions and inference.\n"
     ]
    },
    {
     "name": "stdout",
     "output_type": "stream",
     "text": [
      "Model: Original\n",
      "\trouge1: 0.2464\n",
      "\trouge2: 0.0562\n",
      "\trougeL: 0.1757\n",
      "\trougeLsum: 0.1757\n",
      "\tBertScore: 0.7929\n",
      "\n",
      "Model: Finetuned\n",
      "\trouge1: 0.4561\n",
      "\trouge2: 0.2286\n",
      "\trougeL: 0.3609\n",
      "\trougeLsum: 0.3606\n",
      "\tBertScore: 0.8598\n",
      "\n"
     ]
    }
   ],
   "source": [
    "from evaluate import load\n",
    "\n",
    "rouge = load(\"rouge\")\n",
    "bertscore = load(\"bertscore\")\n",
    "scores = {}\n",
    "\n",
    "for model_name, result_list in results.items():\n",
    "    scores[model_name] = {}\n",
    "    actual_list = []\n",
    "    pred_list = []\n",
    "\n",
    "    for result in result_list:\n",
    "        actual_list.append(result['actual summary'])\n",
    "        pred_list.append(result['generated summary'])\n",
    "    \n",
    "    rouge_result = rouge.compute(predictions=pred_list, references=actual_list)\n",
    "    bertscore_result = bertscore.compute(predictions=pred_list, references=actual_list, lang=\"en\")\n",
    "    bert_score_f1 = np.mean(bertscore_result['f1'])\n",
    "\n",
    "    print(f\"Model: {model_name}\")\n",
    "\n",
    "    for metric_name, score in rouge_result.items():\n",
    "        print(f\"\\t{metric_name}: {score:.4}\")\n",
    "        scores[model_name][metric_name] = score\n",
    "\n",
    "    print(f\"\\tBertScore: {bert_score_f1:.4}\")\n",
    "    scores[model_name]['BertScore'] = bert_score_f1\n",
    "    print()"
   ]
  }
 ],
 "metadata": {
  "kernelspec": {
   "display_name": "Python 3",
   "language": "python",
   "name": "python3"
  },
  "language_info": {
   "codemirror_mode": {
    "name": "ipython",
    "version": 3
   },
   "file_extension": ".py",
   "mimetype": "text/x-python",
   "name": "python",
   "nbconvert_exporter": "python",
   "pygments_lexer": "ipython3",
   "version": "3.10.13"
  }
 },
 "nbformat": 4,
 "nbformat_minor": 2
}
