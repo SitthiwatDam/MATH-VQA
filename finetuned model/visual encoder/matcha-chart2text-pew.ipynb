{
 "cells": [
  {
   "cell_type": "code",
   "execution_count": 1,
   "metadata": {},
   "outputs": [
    {
     "name": "stderr",
     "output_type": "stream",
     "text": [
      "c:\\Users\\Admin\\anaconda3\\envs\\dsai\\lib\\site-packages\\tqdm\\auto.py:21: TqdmWarning: IProgress not found. Please update jupyter and ipywidgets. See https://ipywidgets.readthedocs.io/en/stable/user_install.html\n",
      "  from .autonotebook import tqdm as notebook_tqdm\n",
      "c:\\Users\\Admin\\anaconda3\\envs\\dsai\\lib\\site-packages\\transformers\\utils\\generic.py:441: UserWarning: torch.utils._pytree._register_pytree_node is deprecated. Please use torch.utils._pytree.register_pytree_node instead.\n",
      "  _torch_pytree._register_pytree_node(\n",
      "c:\\Users\\Admin\\anaconda3\\envs\\dsai\\lib\\site-packages\\transformers\\utils\\generic.py:309: UserWarning: torch.utils._pytree._register_pytree_node is deprecated. Please use torch.utils._pytree.register_pytree_node instead.\n",
      "  _torch_pytree._register_pytree_node(\n",
      "c:\\Users\\Admin\\anaconda3\\envs\\dsai\\lib\\site-packages\\transformers\\utils\\generic.py:309: UserWarning: torch.utils._pytree._register_pytree_node is deprecated. Please use torch.utils._pytree.register_pytree_node instead.\n",
      "  _torch_pytree._register_pytree_node(\n"
     ]
    }
   ],
   "source": [
    "from transformers import Pix2StructProcessor, Pix2StructForConditionalGeneration\n",
    "from PIL import Image\n",
    "from torch.utils.data import Dataset, DataLoader\n",
    "import os\n",
    "import cv2\n",
    "import json\n",
    "import torch\n",
    "import numpy as np"
   ]
  },
  {
   "cell_type": "code",
   "execution_count": 2,
   "metadata": {},
   "outputs": [
    {
     "data": {
      "text/plain": [
       "device(type='cuda')"
      ]
     },
     "execution_count": 2,
     "metadata": {},
     "output_type": "execute_result"
    }
   ],
   "source": [
    "device = torch.device('cuda') if torch.cuda.is_available() else 'cpu'\n",
    "device"
   ]
  },
  {
   "cell_type": "code",
   "execution_count": 3,
   "metadata": {},
   "outputs": [],
   "source": [
    "#make our work comparable if restarted the kernel\n",
    "SEED = 1234\n",
    "torch.manual_seed(SEED)\n",
    "torch.backends.cudnn.deterministic = True"
   ]
  },
  {
   "cell_type": "code",
   "execution_count": 4,
   "metadata": {},
   "outputs": [],
   "source": [
    "# 1. Prepare your dataset\n",
    "# You'll need to create a custom dataset class to load your data.\n",
    "\n",
    "MAX_PATCHES = 1024\n",
    "\n",
    "class CustomDataset(Dataset):\n",
    "    def __init__(self, image_paths, user_prompt, chart_summaries, processor):\n",
    "        self.image_paths = image_paths\n",
    "        self.user_prompt = user_prompt\n",
    "        self.chart_summaries = chart_summaries\n",
    "        self.processor = processor\n",
    "\n",
    "    def __len__(self):\n",
    "        return len(self.image_paths)\n",
    "\n",
    "    def __getitem__(self, idx):\n",
    "        image = Image.open(self.image_paths[idx]).convert(\"RGB\")\n",
    "        # image = cv2.imread(self.image_paths[idx], cv2.IMREAD_COLOR)\n",
    "        # image = cv2.cvtColor(image, cv2.COLOR_BGR2RGB)\n",
    "\n",
    "        encoding = self.processor(images=image, text=self.user_prompt, return_tensors=\"pt\", add_special_tokens=True, max_patches=MAX_PATCHES)\n",
    "        encoding = {k:v.squeeze() for k,v in encoding.items()}\n",
    "        encoding[\"text\"] = self.chart_summaries[idx]\n",
    "\n",
    "        return encoding"
   ]
  },
  {
   "cell_type": "code",
   "execution_count": 5,
   "metadata": {},
   "outputs": [],
   "source": [
    "def get_autochart_urls(url_list, chart_type='Bar'):\n",
    "    image_paths = []\n",
    "    chart_summaries = []\n",
    "\n",
    "    if chart_type in ['Bar', 'Line', 'Scatter']:\n",
    "        for item in url_list:\n",
    "            image_path = f\"./dataset/{chart_type}/{chart_type}{item['image_index']}.png\"\n",
    "\n",
    "            if os.path.isfile(image_path):\n",
    "                image_paths.append(image_path)\n",
    "                chart_summaries.append(item['text'])\n",
    "\n",
    "        return image_paths, chart_summaries\n",
    "\n",
    "    else:\n",
    "        print('Chart type is incorrect. Must be one of the followings: Bar, Line, Scatter')"
   ]
  },
  {
   "cell_type": "code",
   "execution_count": 6,
   "metadata": {},
   "outputs": [],
   "source": [
    "chart_desc = []\n",
    "file_lst = ['all_bar_text1.json', 'all_line_text1.json', 'all_scatter_text1.json']\n",
    "\n",
    "for filename in file_lst:\n",
    "    with open(f'./dataset/{filename}') as f:\n",
    "        lst = json.load(f)[:1000]\n",
    "        chart_desc.extend(lst)\n",
    "\n",
    "image_paths, chart_summaries = get_autochart_urls(chart_desc, chart_type='Bar')"
   ]
  },
  {
   "cell_type": "code",
   "execution_count": 7,
   "metadata": {},
   "outputs": [],
   "source": [
    "# 2. Fine-tuning\n",
    "processor = Pix2StructProcessor.from_pretrained('google/matcha-chart2text-pew')\n",
    "model = Pix2StructForConditionalGeneration.from_pretrained('google/matcha-chart2text-pew').to(device)"
   ]
  },
  {
   "cell_type": "code",
   "execution_count": 8,
   "metadata": {},
   "outputs": [],
   "source": [
    "def collator(batch):\n",
    "    new_batch = {\"flattened_patches\": [], \"attention_mask\": []}\n",
    "    texts = [item[\"text\"] for item in batch]\n",
    "\n",
    "    text_inputs = processor.tokenizer(text=texts, padding=\"max_length\", truncation=True, return_tensors=\"pt\", add_special_tokens=True, max_length=512)\n",
    "\n",
    "    new_batch[\"labels\"] = text_inputs.input_ids\n",
    "\n",
    "    for item in batch:\n",
    "        new_batch[\"flattened_patches\"].append(item[\"flattened_patches\"])\n",
    "        new_batch[\"attention_mask\"].append(item[\"attention_mask\"])\n",
    "\n",
    "    new_batch[\"flattened_patches\"] = torch.stack(new_batch[\"flattened_patches\"])\n",
    "    new_batch[\"attention_mask\"] = torch.stack(new_batch[\"attention_mask\"])\n",
    "\n",
    "    return new_batch"
   ]
  },
  {
   "cell_type": "code",
   "execution_count": 9,
   "metadata": {},
   "outputs": [],
   "source": [
    "# 3. Data processing\n",
    "# Create instances of your custom dataset\n",
    "user_prompt = \"What is this chart about?\"\n",
    "dataset = CustomDataset(image_paths, user_prompt, chart_summaries, processor)"
   ]
  },
  {
   "cell_type": "code",
   "execution_count": 10,
   "metadata": {},
   "outputs": [],
   "source": [
    "# 4. Training\n",
    "# Define your training parameters (optimizer, loss function, etc.)\n",
    "optimizer = torch.optim.AdamW(model.parameters(), lr=5e-5)\n",
    "loss_fn = torch.nn.CrossEntropyLoss()"
   ]
  },
  {
   "cell_type": "code",
   "execution_count": 11,
   "metadata": {},
   "outputs": [
    {
     "name": "stderr",
     "output_type": "stream",
     "text": [
      "  1%|          | 31/3000 [03:56<5:41:52,  6.91s/it]"
     ]
    }
   ],
   "source": [
    "from tqdm import tqdm\n",
    "\n",
    "num_epochs = 5\n",
    "batch_size = 1\n",
    "best_loss = float('inf')\n",
    "model_path = \"./model/chart2text-autochart\"\n",
    "\n",
    "model.train()\n",
    "\n",
    "# Define your training loop\n",
    "for epoch in range(num_epochs):\n",
    "    losses = []\n",
    "    for batch in tqdm(DataLoader(dataset, batch_size=batch_size, shuffle=True, collate_fn=collator)):\n",
    "        optimizer.zero_grad()\n",
    "        labels = batch.pop('labels')\n",
    "        flattened_patches = batch.pop('flattened_patches')\n",
    "        attention_mask = batch.pop('attention_mask')\n",
    "        outputs = model(\n",
    "            flattened_patches=flattened_patches.to(device),\n",
    "            attention_mask=attention_mask.to(device),\n",
    "            labels=labels.to(device)\n",
    "            )\n",
    "        # loss = loss_fn(outputs.logits, labels[\"input_ids\"])\n",
    "        loss = outputs.loss\n",
    "        losses.append(loss.item())\n",
    "        loss.backward()\n",
    "        optimizer.step()\n",
    "\n",
    "    epoch_loss = np.average(losses)\n",
    "\n",
    "    if epoch_loss < best_loss:\n",
    "        best_loss = epoch_loss\n",
    "        model.save_pretrained(model_path, from_pt=True) \n",
    "\n",
    "    print(f'Epoch: {epoch+1:02} | Train Loss: {epoch_loss:.3f}')"
   ]
  },
  {
   "cell_type": "code",
   "execution_count": null,
   "metadata": {},
   "outputs": [
    {
     "ename": "",
     "evalue": "",
     "output_type": "error",
     "traceback": [
      "\u001b[1;31mnotebook controller is DISPOSED. \n",
      "\u001b[1;31mView Jupyter <a href='command:jupyter.viewOutput'>log</a> for further details."
     ]
    }
   ],
   "source": [
    "# 5. Evaluation\n",
    "# Evaluate your fine-tuned model on a validation set\n",
    "# (Similar to the training loop but without gradients and optimization)"
   ]
  }
 ],
 "metadata": {
  "kernelspec": {
   "display_name": "Python 3",
   "language": "python",
   "name": "python3"
  },
  "language_info": {
   "codemirror_mode": {
    "name": "ipython",
    "version": 3
   },
   "file_extension": ".py",
   "mimetype": "text/x-python",
   "name": "python",
   "nbconvert_exporter": "python",
   "pygments_lexer": "ipython3",
   "version": "3.10.13"
  }
 },
 "nbformat": 4,
 "nbformat_minor": 2
}
