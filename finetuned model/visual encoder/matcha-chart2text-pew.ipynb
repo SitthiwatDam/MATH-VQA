{
 "cells": [
  {
   "cell_type": "code",
   "execution_count": null,
   "metadata": {},
   "outputs": [],
   "source": [
    "from transformers import Pix2StructProcessor, Pix2StructForConditionalGeneration\n",
    "from PIL import Image\n",
    "import torch\n",
    "from torch.utils.data import Dataset, DataLoader\n",
    "import requests"
   ]
  },
  {
   "cell_type": "code",
   "execution_count": null,
   "metadata": {},
   "outputs": [],
   "source": [
    "# 1. Prepare your dataset\n",
    "# You'll need to create a custom dataset class to load your data.\n",
    "class CustomDataset(Dataset):\n",
    "    def __init__(self, image_paths, user_queries, chart_summaries, processor):\n",
    "        self.image_paths = image_paths\n",
    "        self.user_queries = user_queries\n",
    "        self.chart_summaries = chart_summaries\n",
    "        self.processor = processor\n",
    "\n",
    "    def __len__(self):\n",
    "        return len(self.image_paths)\n",
    "\n",
    "    def __getitem__(self, idx):\n",
    "        image = Image.open(requests.get(self.image_paths[idx], stream=True).raw)\n",
    "        user_query = self.user_queries[idx]\n",
    "        chart_summary = self.chart_summaries[idx]\n",
    "\n",
    "        inputs = self.processor(images=image, text=user_query, return_tensors=\"pt\", padding=True, truncation=True)\n",
    "        labels = self.processor(chart_summary, return_tensors=\"pt\", padding=True, truncation=True)\n",
    "\n",
    "        return inputs, labels"
   ]
  },
  {
   "cell_type": "code",
   "execution_count": null,
   "metadata": {},
   "outputs": [],
   "source": [
    "# Load your dataset here\n",
    "image_paths = [...]  # List of URLs to chart images\n",
    "user_queries = [...]  # List of user queries\n",
    "chart_summaries = [...]  # List of chart summaries\n",
    "\n",
    "# 2. Fine-tuning\n",
    "processor = Pix2StructProcessor.from_pretrained('google/matcha-chart2text-pew')\n",
    "model = Pix2StructForConditionalGeneration.from_pretrained('google/matcha-chart2text-pew')"
   ]
  },
  {
   "cell_type": "code",
   "execution_count": null,
   "metadata": {},
   "outputs": [],
   "source": [
    "# 3. Data processing\n",
    "# Create instances of your custom dataset\n",
    "dataset = CustomDataset(image_paths, user_queries, chart_summaries, processor)\n",
    "\n",
    "# 4. Training\n",
    "# Define your training parameters (optimizer, loss function, etc.)\n",
    "optimizer = torch.optim.AdamW(model.parameters(), lr=5e-5)\n",
    "loss_fn = torch.nn.CrossEntropyLoss()\n",
    "\n",
    "# Define your training loop\n",
    "for epoch in range(num_epochs):\n",
    "    for batch in DataLoader(dataset, batch_size=batch_size, shuffle=True):\n",
    "        inputs, labels = batch\n",
    "        optimizer.zero_grad()\n",
    "        outputs = model(**inputs, labels=labels)\n",
    "        loss = loss_fn(outputs.logits, labels[\"input_ids\"])\n",
    "        loss.backward()\n",
    "        optimizer.step()\n",
    "\n",
    "# 5. Evaluation\n",
    "# Evaluate your fine-tuned model on a validation set\n",
    "# (Similar to the training loop but without gradients and optimization)\n"
   ]
  }
 ],
 "metadata": {
  "language_info": {
   "name": "python"
  }
 },
 "nbformat": 4,
 "nbformat_minor": 2
}
